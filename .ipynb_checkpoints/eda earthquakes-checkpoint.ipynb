{
 "cells": [
  {
   "cell_type": "code",
   "execution_count": 158,
   "metadata": {},
   "outputs": [],
   "source": [
    "import pandas as pd\n",
    "import numpy as np\n",
    "import matplotlib.pyplot as plt\n",
    "import seaborn as sns\n"
   ]
  },
  {
   "cell_type": "code",
   "execution_count": 159,
   "metadata": {},
   "outputs": [
    {
     "name": "stdout",
     "output_type": "stream",
     "text": [
      "(614, 16)\n"
     ]
    }
   ],
   "source": [
    "df = pd.read_csv(\"cleaned_earthquake_data.csv\")\n",
    "print(df.shape)"
   ]
  },
  {
   "cell_type": "code",
   "execution_count": 160,
   "metadata": {},
   "outputs": [],
   "source": [
    "df1 = df"
   ]
  },
  {
   "cell_type": "code",
   "execution_count": 161,
   "metadata": {},
   "outputs": [
    {
     "data": {
      "text/html": [
       "<div>\n",
       "<style scoped>\n",
       "    .dataframe tbody tr th:only-of-type {\n",
       "        vertical-align: middle;\n",
       "    }\n",
       "\n",
       "    .dataframe tbody tr th {\n",
       "        vertical-align: top;\n",
       "    }\n",
       "\n",
       "    .dataframe thead th {\n",
       "        text-align: right;\n",
       "    }\n",
       "</style>\n",
       "<table border=\"1\" class=\"dataframe\">\n",
       "  <thead>\n",
       "    <tr style=\"text-align: right;\">\n",
       "      <th></th>\n",
       "      <th>Unnamed: 0</th>\n",
       "      <th>latitude</th>\n",
       "      <th>longitude</th>\n",
       "      <th>depth</th>\n",
       "      <th>mag</th>\n",
       "      <th>mag_type</th>\n",
       "      <th>id</th>\n",
       "      <th>place</th>\n",
       "      <th>type</th>\n",
       "      <th>mag_nst</th>\n",
       "      <th>status</th>\n",
       "      <th>loc_source</th>\n",
       "      <th>mag_source</th>\n",
       "      <th>country</th>\n",
       "      <th>year</th>\n",
       "      <th>month</th>\n",
       "    </tr>\n",
       "  </thead>\n",
       "  <tbody>\n",
       "    <tr>\n",
       "      <td>0</td>\n",
       "      <td>0</td>\n",
       "      <td>17.0062</td>\n",
       "      <td>96.2746</td>\n",
       "      <td>10.0</td>\n",
       "      <td>3.1</td>\n",
       "      <td>ml</td>\n",
       "      <td>us7000921c</td>\n",
       "      <td>Yangon</td>\n",
       "      <td>earthquake</td>\n",
       "      <td>6</td>\n",
       "      <td>reviewed</td>\n",
       "      <td>us</td>\n",
       "      <td>us</td>\n",
       "      <td>Myanmar</td>\n",
       "      <td>2020</td>\n",
       "      <td>4</td>\n",
       "    </tr>\n",
       "    <tr>\n",
       "      <td>1</td>\n",
       "      <td>1</td>\n",
       "      <td>31.9732</td>\n",
       "      <td>72.2567</td>\n",
       "      <td>10.0</td>\n",
       "      <td>3.4</td>\n",
       "      <td>mb</td>\n",
       "      <td>us7000f9u0</td>\n",
       "      <td>Sahiwal</td>\n",
       "      <td>earthquake</td>\n",
       "      <td>1</td>\n",
       "      <td>reviewed</td>\n",
       "      <td>us</td>\n",
       "      <td>us</td>\n",
       "      <td>Pakistan</td>\n",
       "      <td>2021</td>\n",
       "      <td>9</td>\n",
       "    </tr>\n",
       "    <tr>\n",
       "      <td>2</td>\n",
       "      <td>2</td>\n",
       "      <td>23.9312</td>\n",
       "      <td>93.0128</td>\n",
       "      <td>10.0</td>\n",
       "      <td>3.6</td>\n",
       "      <td>mb</td>\n",
       "      <td>us6000ahfx</td>\n",
       "      <td>Darlawn</td>\n",
       "      <td>earthquake</td>\n",
       "      <td>1</td>\n",
       "      <td>reviewed</td>\n",
       "      <td>us</td>\n",
       "      <td>us</td>\n",
       "      <td>India</td>\n",
       "      <td>2020</td>\n",
       "      <td>6</td>\n",
       "    </tr>\n",
       "    <tr>\n",
       "      <td>3</td>\n",
       "      <td>3</td>\n",
       "      <td>30.2767</td>\n",
       "      <td>78.1005</td>\n",
       "      <td>10.0</td>\n",
       "      <td>3.6</td>\n",
       "      <td>mb</td>\n",
       "      <td>us6000f3yt</td>\n",
       "      <td>Raipur</td>\n",
       "      <td>earthquake</td>\n",
       "      <td>3</td>\n",
       "      <td>reviewed</td>\n",
       "      <td>us</td>\n",
       "      <td>us</td>\n",
       "      <td>India</td>\n",
       "      <td>2021</td>\n",
       "      <td>8</td>\n",
       "    </tr>\n",
       "    <tr>\n",
       "      <td>4</td>\n",
       "      <td>4</td>\n",
       "      <td>28.7268</td>\n",
       "      <td>77.3516</td>\n",
       "      <td>10.0</td>\n",
       "      <td>3.7</td>\n",
       "      <td>mb</td>\n",
       "      <td>us70009ebf</td>\n",
       "      <td>Loni</td>\n",
       "      <td>earthquake</td>\n",
       "      <td>4</td>\n",
       "      <td>reviewed</td>\n",
       "      <td>us</td>\n",
       "      <td>us</td>\n",
       "      <td>India</td>\n",
       "      <td>2020</td>\n",
       "      <td>5</td>\n",
       "    </tr>\n",
       "  </tbody>\n",
       "</table>\n",
       "</div>"
      ],
      "text/plain": [
       "   Unnamed: 0  latitude  longitude  depth  mag mag_type          id    place  \\\n",
       "0           0   17.0062    96.2746   10.0  3.1       ml  us7000921c   Yangon   \n",
       "1           1   31.9732    72.2567   10.0  3.4       mb  us7000f9u0  Sahiwal   \n",
       "2           2   23.9312    93.0128   10.0  3.6       mb  us6000ahfx  Darlawn   \n",
       "3           3   30.2767    78.1005   10.0  3.6       mb  us6000f3yt   Raipur   \n",
       "4           4   28.7268    77.3516   10.0  3.7       mb  us70009ebf     Loni   \n",
       "\n",
       "         type  mag_nst    status loc_source mag_source    country  year  month  \n",
       "0  earthquake        6  reviewed         us         us    Myanmar  2020      4  \n",
       "1  earthquake        1  reviewed         us         us   Pakistan  2021      9  \n",
       "2  earthquake        1  reviewed         us         us      India  2020      6  \n",
       "3  earthquake        3  reviewed         us         us      India  2021      8  \n",
       "4  earthquake        4  reviewed         us         us      India  2020      5  "
      ]
     },
     "execution_count": 161,
     "metadata": {},
     "output_type": "execute_result"
    }
   ],
   "source": [
    "df.head()"
   ]
  },
  {
   "cell_type": "code",
   "execution_count": 162,
   "metadata": {},
   "outputs": [],
   "source": [
    "df.drop(columns=[\"Unnamed: 0\"], inplace = True)"
   ]
  },
  {
   "cell_type": "code",
   "execution_count": 163,
   "metadata": {},
   "outputs": [
    {
     "data": {
      "text/plain": [
       "latitude      float64\n",
       "longitude     float64\n",
       "depth         float64\n",
       "mag           float64\n",
       "mag_type       object\n",
       "id             object\n",
       "place          object\n",
       "type           object\n",
       "mag_nst         int64\n",
       "status         object\n",
       "loc_source     object\n",
       "mag_source     object\n",
       "country        object\n",
       "year            int64\n",
       "month           int64\n",
       "dtype: object"
      ]
     },
     "execution_count": 163,
     "metadata": {},
     "output_type": "execute_result"
    }
   ],
   "source": [
    "df.dtypes"
   ]
  },
  {
   "cell_type": "code",
   "execution_count": 164,
   "metadata": {},
   "outputs": [
    {
     "data": {
      "text/html": [
       "<div>\n",
       "<style scoped>\n",
       "    .dataframe tbody tr th:only-of-type {\n",
       "        vertical-align: middle;\n",
       "    }\n",
       "\n",
       "    .dataframe tbody tr th {\n",
       "        vertical-align: top;\n",
       "    }\n",
       "\n",
       "    .dataframe thead th {\n",
       "        text-align: right;\n",
       "    }\n",
       "</style>\n",
       "<table border=\"1\" class=\"dataframe\">\n",
       "  <thead>\n",
       "    <tr style=\"text-align: right;\">\n",
       "      <th></th>\n",
       "      <th>latitude</th>\n",
       "      <th>longitude</th>\n",
       "      <th>depth</th>\n",
       "      <th>mag</th>\n",
       "      <th>mag_nst</th>\n",
       "      <th>year</th>\n",
       "      <th>month</th>\n",
       "    </tr>\n",
       "  </thead>\n",
       "  <tbody>\n",
       "    <tr>\n",
       "      <td>count</td>\n",
       "      <td>614.000000</td>\n",
       "      <td>614.000000</td>\n",
       "      <td>614.000000</td>\n",
       "      <td>614.000000</td>\n",
       "      <td>614.000000</td>\n",
       "      <td>614.000000</td>\n",
       "      <td>614.000000</td>\n",
       "    </tr>\n",
       "    <tr>\n",
       "      <td>mean</td>\n",
       "      <td>24.441764</td>\n",
       "      <td>88.804525</td>\n",
       "      <td>26.669723</td>\n",
       "      <td>4.502769</td>\n",
       "      <td>40.716612</td>\n",
       "      <td>2020.410423</td>\n",
       "      <td>6.231270</td>\n",
       "    </tr>\n",
       "    <tr>\n",
       "      <td>std</td>\n",
       "      <td>8.972485</td>\n",
       "      <td>8.053495</td>\n",
       "      <td>30.587456</td>\n",
       "      <td>0.391853</td>\n",
       "      <td>47.772344</td>\n",
       "      <td>0.492312</td>\n",
       "      <td>2.898827</td>\n",
       "    </tr>\n",
       "    <tr>\n",
       "      <td>min</td>\n",
       "      <td>5.455100</td>\n",
       "      <td>68.534800</td>\n",
       "      <td>4.240000</td>\n",
       "      <td>3.100000</td>\n",
       "      <td>1.000000</td>\n",
       "      <td>2020.000000</td>\n",
       "      <td>1.000000</td>\n",
       "    </tr>\n",
       "    <tr>\n",
       "      <td>25%</td>\n",
       "      <td>19.284475</td>\n",
       "      <td>85.459550</td>\n",
       "      <td>10.000000</td>\n",
       "      <td>4.300000</td>\n",
       "      <td>13.000000</td>\n",
       "      <td>2020.000000</td>\n",
       "      <td>4.000000</td>\n",
       "    </tr>\n",
       "    <tr>\n",
       "      <td>50%</td>\n",
       "      <td>26.704900</td>\n",
       "      <td>92.957000</td>\n",
       "      <td>10.000000</td>\n",
       "      <td>4.400000</td>\n",
       "      <td>23.000000</td>\n",
       "      <td>2020.000000</td>\n",
       "      <td>7.000000</td>\n",
       "    </tr>\n",
       "    <tr>\n",
       "      <td>75%</td>\n",
       "      <td>31.914800</td>\n",
       "      <td>94.547400</td>\n",
       "      <td>34.457500</td>\n",
       "      <td>4.700000</td>\n",
       "      <td>45.000000</td>\n",
       "      <td>2021.000000</td>\n",
       "      <td>8.000000</td>\n",
       "    </tr>\n",
       "    <tr>\n",
       "      <td>max</td>\n",
       "      <td>35.788700</td>\n",
       "      <td>96.798800</td>\n",
       "      <td>218.530000</td>\n",
       "      <td>6.300000</td>\n",
       "      <td>309.000000</td>\n",
       "      <td>2021.000000</td>\n",
       "      <td>12.000000</td>\n",
       "    </tr>\n",
       "  </tbody>\n",
       "</table>\n",
       "</div>"
      ],
      "text/plain": [
       "         latitude   longitude       depth         mag     mag_nst  \\\n",
       "count  614.000000  614.000000  614.000000  614.000000  614.000000   \n",
       "mean    24.441764   88.804525   26.669723    4.502769   40.716612   \n",
       "std      8.972485    8.053495   30.587456    0.391853   47.772344   \n",
       "min      5.455100   68.534800    4.240000    3.100000    1.000000   \n",
       "25%     19.284475   85.459550   10.000000    4.300000   13.000000   \n",
       "50%     26.704900   92.957000   10.000000    4.400000   23.000000   \n",
       "75%     31.914800   94.547400   34.457500    4.700000   45.000000   \n",
       "max     35.788700   96.798800  218.530000    6.300000  309.000000   \n",
       "\n",
       "              year       month  \n",
       "count   614.000000  614.000000  \n",
       "mean   2020.410423    6.231270  \n",
       "std       0.492312    2.898827  \n",
       "min    2020.000000    1.000000  \n",
       "25%    2020.000000    4.000000  \n",
       "50%    2020.000000    7.000000  \n",
       "75%    2021.000000    8.000000  \n",
       "max    2021.000000   12.000000  "
      ]
     },
     "execution_count": 164,
     "metadata": {},
     "output_type": "execute_result"
    }
   ],
   "source": [
    "df.describe()"
   ]
  },
  {
   "cell_type": "markdown",
   "metadata": {},
   "source": [
    "\n",
    "    \n",
    "<li> The <b>avg depth of earthquake is 26.669</b> which is greater than the 50th percentile ie 10. Since mean > median, the data for depth is <b>right skewed</b>. </li>\n",
    "\n",
    "<li> The <b> avg magnitude of earthquake is 4.50</b> on the richter scale which is slightly greater than the 50th percentile of mag ie 4.40, for the magitude, the data distribution is very slight skewed to the right.</li>\n",
    "\n",
    "<li> Also on an average the earthquake fell on <b>30.5 kms depth above or below the mean depth </b> </li>\n",
    "\n",
    "<li> Coming to magnitude, on an average it fell <b> 0.39 above or below mean magnitude 4.5 on the richter scale for the entire 2020-2021 </b>  </li>\n",
    "\n"
   ]
  },
  {
   "cell_type": "code",
   "execution_count": 165,
   "metadata": {},
   "outputs": [
    {
     "data": {
      "image/png": "[encoded data removed]",
      "text/plain": [
       "<Figure size 432x288 with 1 Axes>"
      ]
     },
     "metadata": {
      "needs_background": "light"
     },
     "output_type": "display_data"
    }
   ],
   "source": [
    "sns.distplot(df[\"depth\"])\n",
    "plt.show()"
   ]
  },
  {
   "cell_type": "code",
   "execution_count": 166,
   "metadata": {},
   "outputs": [
    {
     "data": {
      "text/plain": [
       "<matplotlib.axes._subplots.AxesSubplot at 0x19fe1d2b288>"
      ]
     },
     "execution_count": 166,
     "metadata": {},
     "output_type": "execute_result"
    },
    {
     "data": {
      "image/png": "[encoded data removed]",
      "text/plain": [
       "<Figure size 432x288 with 1 Axes>"
      ]
     },
     "metadata": {
      "needs_background": "light"
     },
     "output_type": "display_data"
    }
   ],
   "source": [
    "df[\"mag\"].value_counts().plot(kind = 'bar')"
   ]
  },
  {
   "cell_type": "markdown",
   "metadata": {},
   "source": [
    "<li> The most common magnitude of earthquake in 2020-2021 period was of <b>4.3</b> in the richter scale. Out of the total earthquakes happened in India and around its neighbouring countries, 83 no of earthquakes , ie, <b>almost 13.5%</b> of the total earthquakes had this magnitude followed by 4.4 and 4.5 being the second common.\n",
    "    \n",
    "<li> Overall if I see, earthquakes mostly happened in between the range of 4.1 to 5.1 richter scale after which from 5.2 onwards, the no of earthquakes which happened is less in comparision"
   ]
  },
  {
   "cell_type": "code",
   "execution_count": 167,
   "metadata": {},
   "outputs": [
    {
     "data": {
      "text/plain": [
       "<matplotlib.axes._subplots.AxesSubplot at 0x19fe9e77148>"
      ]
     },
     "execution_count": 167,
     "metadata": {},
     "output_type": "execute_result"
    },
    {
     "data": {
      "image/png": "[encoded data removed]",
      "text/plain": [
       "<Figure size 432x288 with 1 Axes>"
      ]
     },
     "metadata": {
      "needs_background": "light"
     },
     "output_type": "display_data"
    }
   ],
   "source": [
    "df[\"mag_type\"].value_counts().plot(kind = 'bar')"
   ]
  },
  {
   "cell_type": "markdown",
   "metadata": {},
   "source": [
    "**mag_type** is basically the method or algorithm used to calculate the preferred maginitude of the event. Usually there are many algorithms.But in our dataset the most common ones are mb, mww, ml\n",
    "\n",
    "<li> Over 550 of the earthquakes are measure thorugh <b> mb </b> algorithm. This algorithm is used to measure earthquakes of range <b> 4.0 to 6.5 </b> with a distance range of 15-100 degrees. That means, approx 92% of the earthquakes are occured are in range 4.0 to 6.5\n",
    "    \n",
    "<li> Aprroxmiatley 35-40 earthquakes are measure with <b> mww </b> algorithm which is of magnitude 5.0 or larger and has a distance range of 1-90 degrees.\n",
    "    \n",
    "<li> The ml algortihm is used to measure earthquakes with 2.0 to 6.5 magnitude having distance of <b> 0-600 km </b> and its only one in no. in this dataset\n",
    " \n",
    " \n",
    "Lets explore this \"ml\" measured earthquake, since its only one of it type in our dataset:"
   ]
  },
  {
   "cell_type": "code",
   "execution_count": 168,
   "metadata": {},
   "outputs": [
    {
     "data": {
      "text/html": [
       "<div>\n",
       "<style scoped>\n",
       "    .dataframe tbody tr th:only-of-type {\n",
       "        vertical-align: middle;\n",
       "    }\n",
       "\n",
       "    .dataframe tbody tr th {\n",
       "        vertical-align: top;\n",
       "    }\n",
       "\n",
       "    .dataframe thead th {\n",
       "        text-align: right;\n",
       "    }\n",
       "</style>\n",
       "<table border=\"1\" class=\"dataframe\">\n",
       "  <thead>\n",
       "    <tr style=\"text-align: right;\">\n",
       "      <th></th>\n",
       "      <th>latitude</th>\n",
       "      <th>longitude</th>\n",
       "      <th>depth</th>\n",
       "      <th>mag</th>\n",
       "      <th>mag_type</th>\n",
       "      <th>id</th>\n",
       "      <th>place</th>\n",
       "      <th>type</th>\n",
       "      <th>mag_nst</th>\n",
       "      <th>status</th>\n",
       "      <th>loc_source</th>\n",
       "      <th>mag_source</th>\n",
       "      <th>country</th>\n",
       "      <th>year</th>\n",
       "      <th>month</th>\n",
       "    </tr>\n",
       "  </thead>\n",
       "  <tbody>\n",
       "    <tr>\n",
       "      <td>0</td>\n",
       "      <td>17.0062</td>\n",
       "      <td>96.2746</td>\n",
       "      <td>10.0</td>\n",
       "      <td>3.1</td>\n",
       "      <td>ml</td>\n",
       "      <td>us7000921c</td>\n",
       "      <td>Yangon</td>\n",
       "      <td>earthquake</td>\n",
       "      <td>6</td>\n",
       "      <td>reviewed</td>\n",
       "      <td>us</td>\n",
       "      <td>us</td>\n",
       "      <td>Myanmar</td>\n",
       "      <td>2020</td>\n",
       "      <td>4</td>\n",
       "    </tr>\n",
       "  </tbody>\n",
       "</table>\n",
       "</div>"
      ],
      "text/plain": [
       "   latitude  longitude  depth  mag mag_type          id   place        type  \\\n",
       "0   17.0062    96.2746   10.0  3.1       ml  us7000921c  Yangon  earthquake   \n",
       "\n",
       "   mag_nst    status loc_source mag_source   country  year  month  \n",
       "0        6  reviewed         us         us   Myanmar  2020      4  "
      ]
     },
     "execution_count": 168,
     "metadata": {},
     "output_type": "execute_result"
    }
   ],
   "source": [
    "df[df[\"mag_type\"] == \"ml\"]"
   ]
  },
  {
   "cell_type": "markdown",
   "metadata": {},
   "source": [
    "Okay, on finding out it turns out that this earthquake was not very drastic in nature. It was 3.1 on the ricter scale happened in myanmar at a depth of 10kmts. Its the least one on the richter scale for the year 2020-2021(among the earthquakes of india and its neighbouring countries)in this dataset. The data is collected from 2.5+ richter scale onwards so that seems to be the minimum for us"
   ]
  },
  {
   "cell_type": "code",
   "execution_count": 169,
   "metadata": {},
   "outputs": [
    {
     "data": {
      "text/plain": [
       "<matplotlib.axes._subplots.AxesSubplot at 0x19fe9ee7ac8>"
      ]
     },
     "execution_count": 169,
     "metadata": {},
     "output_type": "execute_result"
    },
    {
     "data": {
      "image/png": "[encoded data removed]",
      "text/plain": [
       "<Figure size 432x288 with 1 Axes>"
      ]
     },
     "metadata": {
      "needs_background": "light"
     },
     "output_type": "display_data"
    }
   ],
   "source": [
    "df[\"mag_source\"].value_counts().plot(kind = \"bar\")"
   ]
  },
  {
   "cell_type": "markdown",
   "metadata": {},
   "source": [
    "So all of the earthquakes magnitude source(mag_source) was the **\"US\"**"
   ]
  },
  {
   "cell_type": "code",
   "execution_count": 170,
   "metadata": {},
   "outputs": [
    {
     "data": {
      "text/plain": [
       "<matplotlib.axes._subplots.AxesSubplot at 0x19fe9f37e08>"
      ]
     },
     "execution_count": 170,
     "metadata": {},
     "output_type": "execute_result"
    },
    {
     "data": {
      "image/png": "[encoded data removed]",
      "text/plain": [
       "<Figure size 432x288 with 1 Axes>"
      ]
     },
     "metadata": {
      "needs_background": "light"
     },
     "output_type": "display_data"
    }
   ],
   "source": [
    "df[\"loc_source\"].value_counts().plot(kind = \"bar\")"
   ]
  },
  {
   "cell_type": "markdown",
   "metadata": {},
   "source": [
    "Similarly all of the location source(loc_source) of the earthquakes are provided by the united states as well"
   ]
  },
  {
   "cell_type": "code",
   "execution_count": 171,
   "metadata": {},
   "outputs": [
    {
     "data": {
      "text/plain": [
       "reviewed    614\n",
       "Name: status, dtype: int64"
      ]
     },
     "execution_count": 171,
     "metadata": {},
     "output_type": "execute_result"
    }
   ],
   "source": [
    "df[\"status\"].value_counts()"
   ]
  },
  {
   "cell_type": "markdown",
   "metadata": {},
   "source": [
    "So there are two types of status, either its automatic  or its reviewed. Automatic events are directly posted by automatic processing systems and have not been verified or altered by a human. Reviewed events have been looked at by a human. So almost all of them are reviewed"
   ]
  },
  {
   "cell_type": "code",
   "execution_count": 172,
   "metadata": {},
   "outputs": [
    {
     "data": {
      "text/plain": [
       "earthquake    614\n",
       "Name: type, dtype: int64"
      ]
     },
     "execution_count": 172,
     "metadata": {},
     "output_type": "execute_result"
    }
   ],
   "source": [
    "df[\"type\"].value_counts()"
   ]
  },
  {
   "cell_type": "markdown",
   "metadata": {},
   "source": [
    "**Lets check the highest magnitude**:"
   ]
  },
  {
   "cell_type": "code",
   "execution_count": 173,
   "metadata": {},
   "outputs": [
    {
     "data": {
      "text/plain": [
       "6.3"
      ]
     },
     "execution_count": 173,
     "metadata": {},
     "output_type": "execute_result"
    }
   ],
   "source": [
    "df[\"mag\"].max()"
   ]
  },
  {
   "cell_type": "code",
   "execution_count": 174,
   "metadata": {},
   "outputs": [
    {
     "data": {
      "text/html": [
       "<div>\n",
       "<style scoped>\n",
       "    .dataframe tbody tr th:only-of-type {\n",
       "        vertical-align: middle;\n",
       "    }\n",
       "\n",
       "    .dataframe tbody tr th {\n",
       "        vertical-align: top;\n",
       "    }\n",
       "\n",
       "    .dataframe thead th {\n",
       "        text-align: right;\n",
       "    }\n",
       "</style>\n",
       "<table border=\"1\" class=\"dataframe\">\n",
       "  <thead>\n",
       "    <tr style=\"text-align: right;\">\n",
       "      <th></th>\n",
       "      <th>latitude</th>\n",
       "      <th>longitude</th>\n",
       "      <th>depth</th>\n",
       "      <th>mag</th>\n",
       "      <th>mag_type</th>\n",
       "      <th>id</th>\n",
       "      <th>place</th>\n",
       "      <th>type</th>\n",
       "      <th>mag_nst</th>\n",
       "      <th>status</th>\n",
       "      <th>loc_source</th>\n",
       "      <th>mag_source</th>\n",
       "      <th>country</th>\n",
       "      <th>year</th>\n",
       "      <th>month</th>\n",
       "    </tr>\n",
       "  </thead>\n",
       "  <tbody>\n",
       "    <tr>\n",
       "      <td>612</td>\n",
       "      <td>35.5948</td>\n",
       "      <td>82.4158</td>\n",
       "      <td>10.0</td>\n",
       "      <td>6.3</td>\n",
       "      <td>mww</td>\n",
       "      <td>us7000abmk</td>\n",
       "      <td>Hotan</td>\n",
       "      <td>earthquake</td>\n",
       "      <td>25</td>\n",
       "      <td>reviewed</td>\n",
       "      <td>us</td>\n",
       "      <td>us</td>\n",
       "      <td>China</td>\n",
       "      <td>2020</td>\n",
       "      <td>6</td>\n",
       "    </tr>\n",
       "    <tr>\n",
       "      <td>613</td>\n",
       "      <td>33.1438</td>\n",
       "      <td>86.8637</td>\n",
       "      <td>10.0</td>\n",
       "      <td>6.3</td>\n",
       "      <td>mww</td>\n",
       "      <td>us6000b26j</td>\n",
       "      <td>western Xizang</td>\n",
       "      <td>earthquake</td>\n",
       "      <td>19</td>\n",
       "      <td>reviewed</td>\n",
       "      <td>us</td>\n",
       "      <td>us</td>\n",
       "      <td>Tibet</td>\n",
       "      <td>2020</td>\n",
       "      <td>7</td>\n",
       "    </tr>\n",
       "  </tbody>\n",
       "</table>\n",
       "</div>"
      ],
      "text/plain": [
       "     latitude  longitude  depth  mag mag_type          id           place  \\\n",
       "612   35.5948    82.4158   10.0  6.3      mww  us7000abmk           Hotan   \n",
       "613   33.1438    86.8637   10.0  6.3      mww  us6000b26j  western Xizang   \n",
       "\n",
       "           type  mag_nst    status loc_source mag_source country  year  month  \n",
       "612  earthquake       25  reviewed         us         us   China  2020      6  \n",
       "613  earthquake       19  reviewed         us         us   Tibet  2020      7  "
      ]
     },
     "execution_count": 174,
     "metadata": {},
     "output_type": "execute_result"
    }
   ],
   "source": [
    "df[df[\"mag\"] == 6.3]"
   ]
  },
  {
   "cell_type": "markdown",
   "metadata": {},
   "source": [
    "The **highest magnitude  was 6.3** which was hit in western xizang **(tibet)** and in Hotan **(China)**. The depth of both the earthquakes were similar of about 10kmts. The places are not very far away from each other as it is inevitable from the lat and long. Moreover they were hit at a gap of one month from each other"
   ]
  },
  {
   "cell_type": "markdown",
   "metadata": {},
   "source": [
    "**Since above 6.0 richter scale earthquakes are rare, lets see how many of them occured in 2020-2021 duration**:"
   ]
  },
  {
   "cell_type": "code",
   "execution_count": 175,
   "metadata": {},
   "outputs": [
    {
     "data": {
      "text/html": [
       "<div>\n",
       "<style scoped>\n",
       "    .dataframe tbody tr th:only-of-type {\n",
       "        vertical-align: middle;\n",
       "    }\n",
       "\n",
       "    .dataframe tbody tr th {\n",
       "        vertical-align: top;\n",
       "    }\n",
       "\n",
       "    .dataframe thead th {\n",
       "        text-align: right;\n",
       "    }\n",
       "</style>\n",
       "<table border=\"1\" class=\"dataframe\">\n",
       "  <thead>\n",
       "    <tr style=\"text-align: right;\">\n",
       "      <th></th>\n",
       "      <th>latitude</th>\n",
       "      <th>longitude</th>\n",
       "      <th>depth</th>\n",
       "      <th>mag</th>\n",
       "      <th>mag_type</th>\n",
       "      <th>id</th>\n",
       "      <th>place</th>\n",
       "      <th>type</th>\n",
       "      <th>mag_nst</th>\n",
       "      <th>status</th>\n",
       "      <th>loc_source</th>\n",
       "      <th>mag_source</th>\n",
       "      <th>country</th>\n",
       "      <th>year</th>\n",
       "      <th>month</th>\n",
       "    </tr>\n",
       "  </thead>\n",
       "  <tbody>\n",
       "    <tr>\n",
       "      <td>609</td>\n",
       "      <td>26.7813</td>\n",
       "      <td>92.4565</td>\n",
       "      <td>34.0</td>\n",
       "      <td>6.0</td>\n",
       "      <td>mww</td>\n",
       "      <td>us7000dy3b</td>\n",
       "      <td>Dhekiajuli</td>\n",
       "      <td>earthquake</td>\n",
       "      <td>22</td>\n",
       "      <td>reviewed</td>\n",
       "      <td>us</td>\n",
       "      <td>us</td>\n",
       "      <td>India</td>\n",
       "      <td>2021</td>\n",
       "      <td>4</td>\n",
       "    </tr>\n",
       "    <tr>\n",
       "      <td>610</td>\n",
       "      <td>11.8485</td>\n",
       "      <td>94.9362</td>\n",
       "      <td>10.0</td>\n",
       "      <td>6.1</td>\n",
       "      <td>mww</td>\n",
       "      <td>us7000aqaw</td>\n",
       "      <td>Port Blair</td>\n",
       "      <td>earthquake</td>\n",
       "      <td>53</td>\n",
       "      <td>reviewed</td>\n",
       "      <td>us</td>\n",
       "      <td>us</td>\n",
       "      <td>India</td>\n",
       "      <td>2020</td>\n",
       "      <td>7</td>\n",
       "    </tr>\n",
       "    <tr>\n",
       "      <td>611</td>\n",
       "      <td>8.8809</td>\n",
       "      <td>94.0192</td>\n",
       "      <td>10.0</td>\n",
       "      <td>6.1</td>\n",
       "      <td>mww</td>\n",
       "      <td>us6000f1r4</td>\n",
       "      <td>Nicobar Islands</td>\n",
       "      <td>earthquake</td>\n",
       "      <td>20</td>\n",
       "      <td>reviewed</td>\n",
       "      <td>us</td>\n",
       "      <td>us</td>\n",
       "      <td>India</td>\n",
       "      <td>2021</td>\n",
       "      <td>8</td>\n",
       "    </tr>\n",
       "    <tr>\n",
       "      <td>612</td>\n",
       "      <td>35.5948</td>\n",
       "      <td>82.4158</td>\n",
       "      <td>10.0</td>\n",
       "      <td>6.3</td>\n",
       "      <td>mww</td>\n",
       "      <td>us7000abmk</td>\n",
       "      <td>Hotan</td>\n",
       "      <td>earthquake</td>\n",
       "      <td>25</td>\n",
       "      <td>reviewed</td>\n",
       "      <td>us</td>\n",
       "      <td>us</td>\n",
       "      <td>China</td>\n",
       "      <td>2020</td>\n",
       "      <td>6</td>\n",
       "    </tr>\n",
       "    <tr>\n",
       "      <td>613</td>\n",
       "      <td>33.1438</td>\n",
       "      <td>86.8637</td>\n",
       "      <td>10.0</td>\n",
       "      <td>6.3</td>\n",
       "      <td>mww</td>\n",
       "      <td>us6000b26j</td>\n",
       "      <td>western Xizang</td>\n",
       "      <td>earthquake</td>\n",
       "      <td>19</td>\n",
       "      <td>reviewed</td>\n",
       "      <td>us</td>\n",
       "      <td>us</td>\n",
       "      <td>Tibet</td>\n",
       "      <td>2020</td>\n",
       "      <td>7</td>\n",
       "    </tr>\n",
       "  </tbody>\n",
       "</table>\n",
       "</div>"
      ],
      "text/plain": [
       "     latitude  longitude  depth  mag mag_type          id            place  \\\n",
       "609   26.7813    92.4565   34.0  6.0      mww  us7000dy3b       Dhekiajuli   \n",
       "610   11.8485    94.9362   10.0  6.1      mww  us7000aqaw       Port Blair   \n",
       "611    8.8809    94.0192   10.0  6.1      mww  us6000f1r4  Nicobar Islands   \n",
       "612   35.5948    82.4158   10.0  6.3      mww  us7000abmk            Hotan   \n",
       "613   33.1438    86.8637   10.0  6.3      mww  us6000b26j   western Xizang   \n",
       "\n",
       "           type  mag_nst    status loc_source mag_source country  year  month  \n",
       "609  earthquake       22  reviewed         us         us   India  2021      4  \n",
       "610  earthquake       53  reviewed         us         us   India  2020      7  \n",
       "611  earthquake       20  reviewed         us         us   India  2021      8  \n",
       "612  earthquake       25  reviewed         us         us   China  2020      6  \n",
       "613  earthquake       19  reviewed         us         us   Tibet  2020      7  "
      ]
     },
     "execution_count": 175,
     "metadata": {},
     "output_type": "execute_result"
    }
   ],
   "source": [
    "df[df[\"mag\"] >= 6]"
   ]
  },
  {
   "cell_type": "code",
   "execution_count": 176,
   "metadata": {},
   "outputs": [
    {
     "data": {
      "text/plain": [
       "<matplotlib.axes._subplots.AxesSubplot at 0x19fe9fb5848>"
      ]
     },
     "execution_count": 176,
     "metadata": {},
     "output_type": "execute_result"
    },
    {
     "data": {
      "image/png": "[encoded data removed]",
      "text/plain": [
       "<Figure size 432x288 with 1 Axes>"
      ]
     },
     "metadata": {
      "needs_background": "light"
     },
     "output_type": "display_data"
    }
   ],
   "source": [
    "df[df[\"mag\"] >= 6][\"country\"].value_counts().plot(kind=\"bar\")"
   ]
  },
  {
   "cell_type": "markdown",
   "metadata": {},
   "source": [
    "<li> There were <b> 5 earthquakes </b> with 6 and above in this period with 3 of them from <b> India </b> and 2 of them from its neighbouring parts. \n",
    " \n",
    "\n",
    "    \n",
    "<li> Almost all of the earthquakes' depths were same around 10kmts but the <b> Dhekiajuli earthquake of 2021 </b>  has the maximum depth among them of nearly 34kmts. I personally felt the jolts of this earthquake and it was massive. "
   ]
  },
  {
   "cell_type": "markdown",
   "metadata": {},
   "source": [
    "**Lets explore which countries had most no of above 5 earthquake**"
   ]
  },
  {
   "cell_type": "code",
   "execution_count": 177,
   "metadata": {},
   "outputs": [
    {
     "data": {
      "text/plain": [
       "<matplotlib.axes._subplots.AxesSubplot at 0x19fea015208>"
      ]
     },
     "execution_count": 177,
     "metadata": {},
     "output_type": "execute_result"
    },
    {
     "data": {
      "image/png": "[encoded data removed]",
      "text/plain": [
       "<Figure size 432x288 with 1 Axes>"
      ]
     },
     "metadata": {
      "needs_background": "light"
     },
     "output_type": "display_data"
    }
   ],
   "source": [
    "df[df[\"mag\"] > 5][\"country\"].value_counts().plot(kind = 'bar')"
   ]
  },
  {
   "cell_type": "markdown",
   "metadata": {},
   "source": [
    "<li> <b> India recorded above 25 no of earthquakes and hence </b> tops the list being the highest country having larger no of above 5 richter scale earthquake in this period.  \n",
    "<li> The least being <b> Bhutan, Pakistan, Afghanistan and Indonesia </b> where such no is only 1"
   ]
  },
  {
   "cell_type": "code",
   "execution_count": 178,
   "metadata": {},
   "outputs": [
    {
     "data": {
      "text/plain": [
       "<matplotlib.axes._subplots.AxesSubplot at 0x19fea084d88>"
      ]
     },
     "execution_count": 178,
     "metadata": {},
     "output_type": "execute_result"
    },
    {
     "data": {
      "image/png": "[encoded data removed]",
      "text/plain": [
       "<Figure size 432x288 with 1 Axes>"
      ]
     },
     "metadata": {
      "needs_background": "light"
     },
     "output_type": "display_data"
    }
   ],
   "source": [
    "df[\"country\"].value_counts().plot(kind = \"bar\")"
   ]
  },
  {
   "cell_type": "markdown",
   "metadata": {},
   "source": [
    "<li> <b>India </b> tops having most no of earthquakes with almost 300 out of 614 ie, <b>49% of the earthquakes happened are from this region</b>\n",
    "    \n",
    "<li> Afghanistan, Bangladesh, Bhutan, Maldives, Srilanka has the least"
   ]
  },
  {
   "cell_type": "code",
   "execution_count": 188,
   "metadata": {},
   "outputs": [
    {
     "data": {
      "text/plain": [
       "<matplotlib.axes._subplots.AxesSubplot at 0x19feb2e31c8>"
      ]
     },
     "execution_count": 188,
     "metadata": {},
     "output_type": "execute_result"
    },
    {
     "data": {
      "image/png": "[encoded data removed]",
      "text/plain": [
       "<Figure size 432x288 with 1 Axes>"
      ]
     },
     "metadata": {
      "needs_background": "light"
     },
     "output_type": "display_data"
    }
   ],
   "source": [
    "df[\"year\"].value_counts().plot(kind = \"bar\")"
   ]
  },
  {
   "cell_type": "markdown",
   "metadata": {},
   "source": [
    "<li> Year 2020 has seen more earthquakes then 2021 <b>almost 60% of the total earthquakes</b> reported uptil october,2021."
   ]
  },
  {
   "cell_type": "code",
   "execution_count": 185,
   "metadata": {},
   "outputs": [
    {
     "data": {
      "text/plain": [
       "<matplotlib.axes._subplots.AxesSubplot at 0x19feb1faf08>"
      ]
     },
     "execution_count": 185,
     "metadata": {},
     "output_type": "execute_result"
    },
    {
     "data": {
      "image/png": "[encoded data removed]",
      "text/plain": [
       "<Figure size 432x288 with 1 Axes>"
      ]
     },
     "metadata": {
      "needs_background": "light"
     },
     "output_type": "display_data"
    }
   ],
   "source": [
    "df[df[\"year\"] == 2020][\"month\"].value_counts().plot(kind = \"bar\")"
   ]
  },
  {
   "cell_type": "markdown",
   "metadata": {},
   "source": [
    "<li> July saw the most earthquakes in 2020 where as the least is seen by December,2020 \n",
    "    \n",
    "<li> February, March, April, September and November saw almost similar o of earthquakes \n",
    "    \n",
    "<li> January, May, october saw the same trend in no of earthquakes"
   ]
  },
  {
   "cell_type": "code",
   "execution_count": 186,
   "metadata": {},
   "outputs": [
    {
     "data": {
      "text/plain": [
       "<matplotlib.axes._subplots.AxesSubplot at 0x19feb261188>"
      ]
     },
     "execution_count": 186,
     "metadata": {},
     "output_type": "execute_result"
    },
    {
     "data": {
      "image/png": "[encoded data removed]",
      "text/plain": [
       "<Figure size 432x288 with 1 Axes>"
      ]
     },
     "metadata": {
      "needs_background": "light"
     },
     "output_type": "display_data"
    }
   ],
   "source": [
    "df[df[\"year\"] == 2021][\"month\"].value_counts().plot(kind = \"bar\")"
   ]
  },
  {
   "cell_type": "markdown",
   "metadata": {},
   "source": [
    "<li> Well, in case of this year ie 2021,August saw the most no. of earthquakes while January saw the least.\n",
    "    \n",
    "<li> February, March,June, July saw almost similar no of earthquakes this year"
   ]
  },
  {
   "cell_type": "code",
   "execution_count": 197,
   "metadata": {},
   "outputs": [
    {
     "data": {
      "text/plain": [
       "<matplotlib.axes._subplots.AxesSubplot at 0x19fe9d1c5c8>"
      ]
     },
     "execution_count": 197,
     "metadata": {},
     "output_type": "execute_result"
    },
    {
     "data": {
      "image/png": "[encoded data removed]",
      "text/plain": [
       "<Figure size 432x288 with 1 Axes>"
      ]
     },
     "metadata": {
      "needs_background": "light"
     },
     "output_type": "display_data"
    }
   ],
   "source": [
    "df[(df[\"month\"] == 8) & (df[\"year\"] == 2021)][\"country\"].value_counts().plot(kind = \"bar\")"
   ]
  },
  {
   "cell_type": "markdown",
   "metadata": {},
   "source": [
    "<li> The highest no of earthquakes which we saw in the month of august in 2021 was <b>accounted mostly from India and Myanmar</b>\n",
    "    \n"
   ]
  },
  {
   "cell_type": "code",
   "execution_count": 198,
   "metadata": {},
   "outputs": [
    {
     "data": {
      "text/plain": [
       "<matplotlib.axes._subplots.AxesSubplot at 0x19fe96ca288>"
      ]
     },
     "execution_count": 198,
     "metadata": {},
     "output_type": "execute_result"
    },
    {
     "data": {
      "image/png": "[encoded data removed]",
      "text/plain": [
       "<Figure size 432x288 with 1 Axes>"
      ]
     },
     "metadata": {
      "needs_background": "light"
     },
     "output_type": "display_data"
    }
   ],
   "source": [
    "df[(df[\"month\"] == 7) & (df[\"year\"] == 2020)][\"country\"].value_counts().plot(kind = \"bar\")"
   ]
  },
  {
   "cell_type": "markdown",
   "metadata": {},
   "source": [
    "<li>Similarly, The highest no of earthquakes which we saw in the month of July in 2020 was <b>accounted mostly from India, Tibet and China</b>\n",
    "    \n"
   ]
  },
  {
   "cell_type": "code",
   "execution_count": null,
   "metadata": {},
   "outputs": [],
   "source": []
  }
 ],
 "metadata": {
  "kernelspec": {
   "display_name": "Python 3",
   "language": "python",
   "name": "python3"
  },
  "language_info": {
   "codemirror_mode": {
    "name": "ipython",
    "version": 3
   },
   "file_extension": ".py",
   "mimetype": "text/x-python",
   "name": "python",
   "nbconvert_exporter": "python",
   "pygments_lexer": "ipython3",
   "version": "3.7.4"
  }
 },
 "nbformat": 4,
 "nbformat_minor": 2
}
